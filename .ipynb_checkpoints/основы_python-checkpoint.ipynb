{
 "cells": [
  {
   "cell_type": "code",
   "execution_count": 2,
   "metadata": {},
   "outputs": [],
   "source": [
    "import doctest\n",
    "from IPython.core.magic import register_cell_magic\n",
    "\n",
    "# Магия ячейки для запуска doctest\n",
    "@register_cell_magic\n",
    "def doctest_magic(line, cell):\n",
    "    # Инициализируем код из ячейки\n",
    "    exec(cell, globals())\n",
    "\n",
    "    # Ищем все локальные объекты\n",
    "    local_vars = {}\n",
    "    exec(cell, globals(), local_vars)\n",
    "\n",
    "    # Проходим по всем объектам в локальных переменных и ищем docstring'и для тестирования\n",
    "    for name, obj in local_vars.items():\n",
    "        if callable(obj):  # Проверяем, объект является функцией или классом\n",
    "            print(f\"Running doctests for {name}...\\n\")\n",
    "            try:\n",
    "                doctest.run_docstring_examples(obj, globals(), name=name, verbose=True)\n",
    "            except Exception as e:\n",
    "                print(f\"Error running doctests for {name}: {e}\")"
   ]
  },
  {
   "cell_type": "markdown",
   "metadata": {
    "id": "M-DGa20PaHnu"
   },
   "source": [
    "#Задача 1\n",
    "Написать функцию на вход которой подается строка, состоящая из латинских букв.\n",
    "Функция должна вернуть количество гласных букв (a, e, i, o, u) в этой строке. Написать тесты для кода"
   ]
  },
  {
   "cell_type": "code",
   "execution_count": 3,
   "metadata": {
    "id": "XvX8X_JJ6PCb"
   },
   "outputs": [
    {
     "name": "stdout",
     "output_type": "stream",
     "text": [
      "Running doctests for count_vowels...\n",
      "\n",
      "Finding tests in count_vowels\n",
      "Trying:\n",
      "    count_vowels('hello')\n",
      "Expecting:\n",
      "    2\n",
      "ok\n"
     ]
    }
   ],
   "source": [
    "%%doctest_magic\n",
    "\n",
    "def count_vowels(string):\n",
    "    \"\"\"\n",
    "    >>> count_vowels('hello')\n",
    "    2\n",
    "    \"\"\"\n",
    "    counter = 0\n",
    "    for symbol in string:\n",
    "        if symbol in 'aeiouAEIOU':\n",
    "            counter += 1\n",
    "    return counter\n"
   ]
  },
  {
   "cell_type": "markdown",
   "metadata": {
    "id": "t2ClV_Y0bbr6"
   },
   "source": [
    "# Задача 2\n",
    "Написать функцию на вход, которой подается строка. Функция должна вернуть true, если\n",
    "каждый символ в строке встречается только 1 раз, иначе должна вернуть false. Написать тесты для кода"
   ]
  },
  {
   "cell_type": "code",
   "execution_count": 24,
   "metadata": {
    "id": "FppbECao6VIz"
   },
   "outputs": [
    {
     "name": "stdout",
     "output_type": "stream",
     "text": [
      "Running doctests for has_unique_chars...\n",
      "\n",
      "Finding tests in has_unique_chars\n",
      "Trying:\n",
      "    has_unique_chars('jupyter')\n",
      "Expecting:\n",
      "    True\n",
      "ok\n",
      "Trying:\n",
      "    has_unique_chars('notebook')\n",
      "Expecting:\n",
      "    False\n",
      "ok\n"
     ]
    }
   ],
   "source": [
    "%%doctest_magic\n",
    "\n",
    "def has_unique_chars(string):\n",
    "    \"\"\"\n",
    "    >>> has_unique_chars('jupyter')\n",
    "    True\n",
    "    >>> has_unique_chars('notebook')\n",
    "    False\n",
    "    \"\"\"\n",
    "    return len(set(string)) == len(string)\n"
   ]
  },
  {
   "cell_type": "markdown",
   "metadata": {
    "id": "udRiIK1cdt6E"
   },
   "source": [
    "# Задача 3\n",
    "Написать функцию, которая принимает положительное число и возвращает количество\n",
    "бит равных 1 в этом числе. Написать тесты для кода"
   ]
  },
  {
   "cell_type": "code",
   "execution_count": 26,
   "metadata": {
    "id": "6tkfDJRz6dp_"
   },
   "outputs": [
    {
     "name": "stdout",
     "output_type": "stream",
     "text": [
      "Running doctests for count_bits...\n",
      "\n",
      "Finding tests in count_bits\n",
      "Trying:\n",
      "    count_bits(3)\n",
      "Expecting:\n",
      "    2\n",
      "ok\n",
      "Trying:\n",
      "    count_bits(12)\n",
      "Expecting:\n",
      "    2\n",
      "ok\n",
      "Trying:\n",
      "    count_bits(7)\n",
      "Expecting:\n",
      "    3\n",
      "ok\n"
     ]
    }
   ],
   "source": [
    "%%doctest_magic\n",
    "\n",
    "def count_bits(number):\n",
    "    \"\"\"\n",
    "    >>> count_bits(3)\n",
    "    2\n",
    "    >>> count_bits(12)\n",
    "    2\n",
    "    >>> count_bits(7)\n",
    "    3\n",
    "    \"\"\"\n",
    "    return bin(number).count('1')\n"
   ]
  },
  {
   "cell_type": "markdown",
   "metadata": {
    "id": "26dDUz-Ae17N"
   },
   "source": [
    "# Задача 4\n",
    "Написать функцию, которая принимает положительное число. Функция должна вернуть то,\n",
    "сколько раз необходимо перемножать цифры числа или результат перемножения, чтобы\n",
    "получилось число состоящее из одной цифры.\n",
    "Например, для входного числа:\n",
    "· 39 функция должна вернуть 3, так как 3*9=27 => 2*7=14 => 1*4=4\n",
    "· 4 функция должна вернуть 0, так как число уже состоит из одной цифры\n",
    "· 999 функция должна вернуть 4, так как 9*9*9=729 => 7*2*9=126 => 1*2*6=12 =>\n",
    "1*2=2. Написать тесты для кода"
   ]
  },
  {
   "cell_type": "code",
   "execution_count": 30,
   "metadata": {
    "id": "BH1A_Mgi6i4G"
   },
   "outputs": [
    {
     "name": "stdout",
     "output_type": "stream",
     "text": [
      "Running doctests for magic...\n",
      "\n",
      "Finding tests in magic\n",
      "Trying:\n",
      "    magic(39)\n",
      "Expecting:\n",
      "    3\n",
      "ok\n",
      "Trying:\n",
      "    magic(4)\n",
      "Expecting:\n",
      "    0\n",
      "ok\n",
      "Trying:\n",
      "    magic(999)\n",
      "Expecting:\n",
      "    4\n",
      "ok\n"
     ]
    }
   ],
   "source": [
    "%%doctest_magic\n",
    "\n",
    "def magic(number):\n",
    "    \"\"\"\n",
    "    >>> magic(39)\n",
    "    3\n",
    "    >>> magic(4)\n",
    "    0\n",
    "    >>> magic(999)\n",
    "    4\n",
    "    \"\"\"\n",
    "    product = 1\n",
    "    counter = 0\n",
    "    while len(str(number)) != 1:     \n",
    "        for digit in str(number):\n",
    "            product *= int(digit)\n",
    "        number = product\n",
    "        product = 1\n",
    "        counter += 1\n",
    "    return counter\n"
   ]
  },
  {
   "cell_type": "markdown",
   "metadata": {
    "id": "0nS-kIa8g8vd"
   },
   "source": [
    "# Задача 5\n",
    "Написать функцию, которая принимает два целочисленных вектора одинаковой длины и\n",
    "возвращает среднеквадратическое отклонение двух векторов. Написать тесты для кода"
   ]
  },
  {
   "cell_type": "code",
   "execution_count": 33,
   "metadata": {
    "id": "8iphx4LM6xbx"
   },
   "outputs": [
    {
     "name": "stdout",
     "output_type": "stream",
     "text": [
      "Running doctests for rmsd...\n",
      "\n",
      "Finding tests in rmsd\n",
      "Trying:\n",
      "    rmsd([1, 2, 3], [1, 2, 3])\n",
      "Expecting:\n",
      "    0.0\n",
      "ok\n",
      "Trying:\n",
      "    rmsd([1, 2, 3], [4, 5, 6])\n",
      "Expecting:\n",
      "    3.0\n",
      "ok\n",
      "Trying:\n",
      "    rmsd([1000, 2000], [3000, 4000])\n",
      "Expecting:\n",
      "    2000.0\n",
      "ok\n"
     ]
    }
   ],
   "source": [
    "%%doctest_magic\n",
    "\n",
    "import math\n",
    "\n",
    "def rmsd(vector1, vector2):\n",
    "    \"\"\"\n",
    "    >>> rmsd([1, 2, 3], [1, 2, 3])\n",
    "    0.0\n",
    "    >>> rmsd([1, 2, 3], [4, 5, 6])\n",
    "    3.0\n",
    "    >>> rmsd([1000, 2000], [3000, 4000])\n",
    "    2000.0\n",
    "    \"\"\"\n",
    "    n = len(vector1)\n",
    "    return math.sqrt(sum((v1 - v2) ** 2 for v1, v2 in zip(vector1, vector2)) / n)\n"
   ]
  },
  {
   "cell_type": "markdown",
   "metadata": {
    "id": "vpIPKL439zkw"
   },
   "source": [
    "# Задача 6\n",
    "Написать функцию, принимающая целое положительное число. Функция должна вернуть\n",
    "строку вида “(n1**p1)(n2**p2)…(nk**pk)” представляющая разложение числа на простые\n",
    "множители (если pi == 1, то выводить только ni).\n",
    "Например, для числа 86240 функция должна вернуть “(2**5)(5)(7**2)(11)”. Написать тесты для кода"
   ]
  },
  {
   "cell_type": "code",
   "execution_count": 36,
   "metadata": {
    "id": "pFebmcZk94Jw"
   },
   "outputs": [
    {
     "name": "stdout",
     "output_type": "stream",
     "text": [
      "Running doctests for prime_factors_decomposition...\n",
      "\n",
      "Finding tests in prime_factors_decomposition\n",
      "Trying:\n",
      "    prime_factors_decomposition(86240)\n",
      "Expecting:\n",
      "    '(2**5)(5)(7**2)(11)'\n",
      "ok\n"
     ]
    }
   ],
   "source": [
    "%%doctest_magic\n",
    "\n",
    "def prime_factors_decomposition(n):\n",
    "    \"\"\"\n",
    "    >>> prime_factors_decomposition(86240)\n",
    "    '(2**5)(5)(7**2)(11)'\n",
    "    \"\"\"\n",
    "    def prime_factors(n):\n",
    "        factors = {}\n",
    "        divisor = 2\n",
    "        while n > 1:\n",
    "            count = 0\n",
    "            while n % divisor == 0:\n",
    "                n //= divisor\n",
    "                count += 1\n",
    "            if count > 0:\n",
    "                factors[divisor] = count\n",
    "            divisor += 1\n",
    "        return factors\n",
    "    \n",
    "    factors = prime_factors(n)\n",
    "    result = ''\n",
    "    for prime, power in factors.items():\n",
    "        if power == 1:\n",
    "            result += f\"({prime})\"\n",
    "        else:\n",
    "            result += f\"({prime}**{power})\"\n",
    "    return result\n"
   ]
  },
  {
   "cell_type": "markdown",
   "metadata": {
    "id": "ps2s0BudX7A2"
   },
   "source": [
    "# Задача 7\n",
    "Написать функцию, принимающая целое число n, задающее количество кубиков. Функция\n",
    "должна определить, можно ли из данного кол-ва кубиков построить пирамиду, то есть\n",
    "можно ли представить число n как 1^2+2^2+3^2+…+k^2. Если можно, то функция должна\n",
    "вернуть k, иначе строку “It is impossible”. Написать тесты для кода"
   ]
  },
  {
   "cell_type": "code",
   "execution_count": 38,
   "metadata": {
    "id": "3YPjEXxhX_YT"
   },
   "outputs": [
    {
     "name": "stdout",
     "output_type": "stream",
     "text": [
      "Running doctests for pyramid...\n",
      "\n",
      "Finding tests in pyramid\n",
      "Trying:\n",
      "    pyramid(14)\n",
      "Expecting:\n",
      "    3\n",
      "ok\n",
      "Trying:\n",
      "    pyramid(15)\n",
      "Expecting:\n",
      "    'It is impossible'\n",
      "ok\n"
     ]
    }
   ],
   "source": [
    "%%doctest_magic\n",
    "\n",
    "def pyramid(number):\n",
    "    \"\"\"\n",
    "    >>> pyramid(14)\n",
    "    3\n",
    "    >>> pyramid(15)\n",
    "    'It is impossible'\n",
    "    \"\"\"\n",
    "    total = 0\n",
    "    k = 0 \n",
    "    while total < number:\n",
    "        k += 1\n",
    "        total += k ** 2\n",
    "        if total == number:\n",
    "            return k\n",
    "    \n",
    "    return \"It is impossible\"\n"
   ]
  },
  {
   "cell_type": "markdown",
   "metadata": {
    "id": "KeKgmIdAQMEJ"
   },
   "source": [
    "# Задача 8\n",
    "Функция принимает на вход положительное число и определяет является ли оно сбалансированным, т.е. сумма цифр до средних равна сумме цифр после. Средними в случае нечетного числа цифр считать одну цифру, в случае четного - две средних. Написать тесты для кода"
   ]
  },
  {
   "cell_type": "code",
   "execution_count": 40,
   "metadata": {
    "id": "gMAAqtqlQrZt"
   },
   "outputs": [
    {
     "name": "stdout",
     "output_type": "stream",
     "text": [
      "Running doctests for is_balanced_number...\n",
      "\n",
      "Finding tests in is_balanced_number\n",
      "Trying:\n",
      "    is_balanced_number(43507)\n",
      "Expecting:\n",
      "    True\n",
      "ok\n",
      "Trying:\n",
      "    is_balanced_number(123456)\n",
      "Expecting:\n",
      "    False\n",
      "ok\n"
     ]
    }
   ],
   "source": [
    "%%doctest_magic\n",
    "\n",
    "def is_balanced_number(number):\n",
    "    \"\"\"\n",
    "    >>> is_balanced_number(43507)\n",
    "    True\n",
    "    >>> is_balanced_number(123456)\n",
    "    False\n",
    "    \"\"\"\n",
    "    digits = list(map(int, str(number)))\n",
    "    length = len(digits)\n",
    "    if length % 2 == 0:\n",
    "        return sum(digits[:length//2 - 1]) == sum(digits[length//2 + 1:])\n",
    "    else:\n",
    "        return sum(digits[:length//2]) == sum(digits[length//2 + 1:])\n"
   ]
  },
  {
   "cell_type": "code",
   "execution_count": null,
   "metadata": {},
   "outputs": [],
   "source": []
  }
 ],
 "metadata": {
  "colab": {
   "provenance": []
  },
  "kernelspec": {
   "display_name": "Python 3 (ipykernel)",
   "language": "python",
   "name": "python3"
  },
  "language_info": {
   "codemirror_mode": {
    "name": "ipython",
    "version": 3
   },
   "file_extension": ".py",
   "mimetype": "text/x-python",
   "name": "python",
   "nbconvert_exporter": "python",
   "pygments_lexer": "ipython3",
   "version": "3.12.0"
  }
 },
 "nbformat": 4,
 "nbformat_minor": 4
}
